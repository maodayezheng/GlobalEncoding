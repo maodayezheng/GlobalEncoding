{
 "cells": [
  {
   "cell_type": "markdown",
   "metadata": {},
   "source": []
  },
  {
   "cell_type": "markdown",
   "metadata": {},
   "source": [
    "# 0. Notebook prep"
   ]
  },
  {
   "cell_type": "code",
   "execution_count": 3,
   "metadata": {
    "collapsed": true
   },
   "outputs": [],
   "source": [
    "import numpy as np\n",
    "from matplotlib import pyplot as plt\n",
    "import os \n",
    "files = os.listdir(\"loss/\")\n",
    "ae_loss = []\n",
    "rnn_loss = []\n",
    "for f in files:\n",
    "     loss = np.load(\"loss/\"+f)\n",
    "     loss = np.mean(loss.reshape((100, 100)), axis=-1)\n",
    "     loss = {\"loss\":loss}\n",
    "     if \"01\" in f:\n",
    "        loss[\"lable\"] = \"alpha = 0.1\"\n",
    "     elif \"03\" in f:\n",
    "        loss[\"lable\"] = \"alpha = 0.3\"\n",
    "     elif \"05\" in f:\n",
    "        loss[\"lable\"] = \"alpha = 0.5\"\n",
    "     elif \"07\" in f:\n",
    "         loss[\"lable\"] = \"alpha = 0.7\"\n",
    "     elif \"09\" in f:\n",
    "         loss[\"lable\"] = \"alpha = 0.9\"\n",
    "     elif \"00\" in f:\n",
    "        loss[\"lable\"] = \"rnnlm + encoder\"\n",
    "     else:\n",
    "        loss[\"lable\"] = \"rnnlm\"\n",
    "     if \"ae\" in f:\n",
    "        ae_loss.append(loss)\n",
    "     else:\n",
    "        rnn_loss.append(loss)"
   ]
  },
  {
   "cell_type": "markdown",
   "metadata": {},
   "source": [
    "# 1. Recurrent Neural Language Model \n",
    "\n",
    "Given the one-hot embeddings $\\{\\boldsymbol{x}_{1}, \\boldsymbol{x}_{2}, ... , \\boldsymbol{x}_{T}\\}$ of a specific sentence, the RNNLM can assign the probability to the sentence as follow\n",
    "\\begin{equation}\n",
    "\t\\boldsymbol{h}_{t} = f(\\boldsymbol{E}_{in}\\boldsymbol{x}_{t},  \\boldsymbol{h}_{t-1})\n",
    "\\end{equation}\n",
    "\\begin{equation}\n",
    "\t\\boldsymbol{o}_{t} = \\boldsymbol{W}_{o}\\boldsymbol{h}_{t} + \\boldsymbol{b}_{o}\n",
    "\\end{equation}\n",
    "\\begin{equation}\n",
    "\ty_{t} = \\frac{\\exp(\\boldsymbol{o}_{t}^{T}\\boldsymbol{E}_{out}\\boldsymbol{x}_{t+1})}{\\sum_{\\boldsymbol{x}_{k} \\in \\boldsymbol{V}}\\exp(\\boldsymbol{o}_{t}^{T}\\boldsymbol{E}_{out}\\boldsymbol{x}_{k})}\n",
    "\\end{equation}\n",
    "where the function $f(\\cdot)$ is a single step RNN operation and $\\boldsymbol{V}$ is the collection of one-hot vectors for full vocabulary. \n",
    "Then probability given by the recurrent network to the input sequence $\\{\\boldsymbol{x}_{1}, \\boldsymbol{x}_{2}, ... , \\boldsymbol{x}_{T}\\}$ is \n",
    "\\begin{equation}\n",
    "\tp(\\boldsymbol{x}_{1}, \\boldsymbol{x}_{2}, ... , \\boldsymbol{x}_{T}) = \\prod_{t=1}^{T} p(\\boldsymbol{x}_{t+1}|y_{t})\n",
    "\\end{equation}\n",
    "and the sequence loss $\\mathcal{L}_{rnn}$ used to train the network is the negative logarithm of $p(\\boldsymbol{x}_{1}, \\boldsymbol{x}_{2}, ... , \\boldsymbol{x}_{T})$\n",
    "\\begin{equation}\n",
    "\t\\mathcal{L}^{rnn} = -\\sum_{t=1}^{T}\\log p(\\boldsymbol{x}_{t+1}|y_{t})\n",
    "\\end{equation}"
   ]
  },
  {
   "cell_type": "markdown",
   "metadata": {},
   "source": [
    "# 2. Recurrent Neural Language Model with Autoencoder\n",
    "\n",
    "The RNNLM discussed above can combine with an autoencoder by modified the equation (2) as \n",
    "\\begin{equation}\n",
    "\\boldsymbol{o}_{t} = \\boldsymbol{W}_{o}\\boldsymbol{h}_{t} +\\boldsymbol{W}_{z}\\boldsymbol{z} +  \\boldsymbol{b}_{o}\n",
    "\\end{equation}\n",
    "where $\\boldsymbol{z}$ is the dense representation of $\\{\\boldsymbol{x}_{1}, \\boldsymbol{x}_{2}, ... , \\boldsymbol{x}_{T}\\}$ encoded by autoencoder as follow\n",
    "\\begin{equation}\n",
    "\\boldsymbol{g}_{in} = \\text{Relu}(\\boldsymbol{W}_{in}\\begin{bmatrix}\n",
    "\\boldsymbol{E}_{in}\\boldsymbol{x}_{1}\\\\\n",
    ".\\\\\n",
    ".\\\\\n",
    ".\\\\\n",
    "\\boldsymbol{E}_{in}\\boldsymbol{x}_{T}\\\\\n",
    "\\end{bmatrix} + \\boldsymbol{b}_{in})\n",
    "\\end{equation}\n",
    "\\begin{equation}\n",
    "\t\\boldsymbol{z} = \\text{Relu}(\\boldsymbol{W}_{g}\\boldsymbol{g}_{in}+ \\boldsymbol{b}_{g})\n",
    "\\end{equation}\n",
    "\\begin{equation}\n",
    "\t\\boldsymbol{g}_{out} = \\text{Relu}(\\boldsymbol{W}_{out}\\boldsymbol{z} + \\boldsymbol{b}_{out})\n",
    "\\end{equation}\n",
    "The output of autoencode is \n",
    "\\begin{equation}\n",
    "\ty_{t}^{ae} = \\frac{\\exp(\\boldsymbol{g}_{out}^{T}\\boldsymbol{E}_{out}\\boldsymbol{x}_{t})}{\\sum_{\\boldsymbol{x}_{k}\\in \\boldsymbol{V}}\\exp(\\boldsymbol{g}_{out}^{T}\\boldsymbol{E}_{out}\\boldsymbol{x}_{k})}\n",
    "\\end{equation}\n",
    "The probability given by the autoencoder to the input sequence $\\{\\boldsymbol{x}_{1}, \\boldsymbol{x}_{2}, ... , \\boldsymbol{x}_{T}\\}$ is \n",
    "\\begin{equation}\n",
    "\tp(\\boldsymbol{x}_{1}, \\boldsymbol{x}_{2}, ... , \\boldsymbol{x}_{T}) = \\prod_{t=1}^{T} p(\\boldsymbol{x}_{t}|y_{t}^{ae})\n",
    "\\end{equation}\n",
    "and the loss $\\mathcal{L}^{ae}$ defined on the autoencoder is \n",
    "\\begin{equation}\n",
    "\t\\mathcal{L}^{ae} = -\\sum_{t=1}^{T}\\log p(\\boldsymbol{x}_{t}|y_{t}^{ae})\n",
    "\\end{equation}\n",
    "then the total loss of this joint model is \n",
    "\\begin{equation}\n",
    "\t\\mathcal{L} = (1.0 - \\alpha)\\mathcal{L}^{ae} + \\alpha\\mathcal{L}^{rnn}\n",
    "\\end{equation}\n",
    "where $\\alpha$ is a hyper-parameter."
   ]
  },
  {
   "cell_type": "markdown",
   "metadata": {},
   "source": [
    "# 3. Experiment Settings \n",
    "We selected 300k sentences of 20 words length from One Billion Sentences Evaluation dataset and keep 1k of them as testing examples. \n",
    "And we keep 40,000 most frequent words in our vocabulary and replace other words with ``$<\\text{unk}>$'' token. \n",
    "When building our model we use gated recurrent unit (GRU) as the cell for our recurrent networks.\n",
    "We train our model for 10 epoches on the selected sentences. \n",
    "Note that the AE + RNNLM model is tried three times with $\\alpha = \\{0.1, 0.5, 0.9\\}$.\n",
    "The table below gives the detail about the model's dimensionality.\n"
   ]
  },
  {
   "cell_type": "markdown",
   "metadata": {
    "collapsed": false
   },
   "source": [
    "|        |        Vocabulary Size    | Embedding dimension | Hidden (RNN) | Hidden (AE) | Total Parameters (Exclude Embedding)|\n",
    "| -------| :-------------------------:| :------------------:|:------------:| :-----------:| :-------------:|\n",
    "| RNN      | 40004 |  512| 256 | -| 0.7M (RNN)|\n",
    "| AE + RNN      | 40004     |   512 | 256 | 128| 2.8M(AE) + 0.7M(RNN) |\n"
   ]
  },
  {
   "cell_type": "markdown",
   "metadata": {},
   "source": [
    "# 4. Comparison \n",
    "## 4.1 Loss\n",
    "The figures below show the training loss of RNNLM and AE + RNNLM"
   ]
  },
  {
   "cell_type": "code",
   "execution_count": 5,
   "metadata": {
    "collapsed": false,
    "scrolled": true
   },
   "outputs": [
    {
     "data": {
      "image/png": "[encoded data removed]",
      "text/plain": [
       "<matplotlib.figure.Figure at 0x16cd73544e0>"
      ]
     },
     "metadata": {},
     "output_type": "display_data"
    }
   ],
   "source": [
    "for a in ae_loss:\n",
    "    plt.plot(a[\"loss\"],label=a[\"lable\"])\n",
    "plt.legend(loc=1)\n",
    "plt.xlabel('Averaged Negative log likelihood on autoencoder (every 100 iterations)')\n",
    "plt.ylabel('L(X))')\n",
    "plt.savefig('ae_loss' + '.png')\n",
    "plt.show()"
   ]
  },
  {
   "cell_type": "code",
   "execution_count": 1,
   "metadata": {
    "collapsed": false,
    "scrolled": true
   },
   "outputs": [
    {
     "ename": "NameError",
     "evalue": "name 'rnn_loss' is not defined",
     "traceback": [
      "\u001b[1;31m---------------------------------------------------------------------------\u001b[0m",
      "\u001b[1;31mNameError\u001b[0m                                 Traceback (most recent call last)",
      "\u001b[1;32m<ipython-input-1-6e982cbfa389>\u001b[0m in \u001b[0;36m<module>\u001b[1;34m()\u001b[0m\n\u001b[1;32m----> 1\u001b[1;33m \u001b[1;32mfor\u001b[0m \u001b[0ma\u001b[0m \u001b[1;32min\u001b[0m \u001b[0mrnn_loss\u001b[0m\u001b[1;33m[\u001b[0m\u001b[1;36m2\u001b[0m\u001b[1;33m:\u001b[0m\u001b[1;33m]\u001b[0m\u001b[1;33m:\u001b[0m\u001b[1;33m\u001b[0m\u001b[0m\n\u001b[0m\u001b[0;32m      2\u001b[0m     \u001b[0mplt\u001b[0m\u001b[1;33m.\u001b[0m\u001b[0mplot\u001b[0m\u001b[1;33m(\u001b[0m\u001b[0ma\u001b[0m\u001b[1;33m[\u001b[0m\u001b[1;34m\"loss\"\u001b[0m\u001b[1;33m]\u001b[0m\u001b[1;33m,\u001b[0m\u001b[0mlabel\u001b[0m\u001b[1;33m=\u001b[0m\u001b[0ma\u001b[0m\u001b[1;33m[\u001b[0m\u001b[1;34m\"lable\"\u001b[0m\u001b[1;33m]\u001b[0m\u001b[1;33m)\u001b[0m\u001b[1;33m\u001b[0m\u001b[0m\n\u001b[0;32m      3\u001b[0m \u001b[0mr\u001b[0m \u001b[1;33m=\u001b[0m \u001b[0mrnn_loss\u001b[0m\u001b[1;33m[\u001b[0m\u001b[1;36m0\u001b[0m\u001b[1;33m]\u001b[0m\u001b[1;33m\u001b[0m\u001b[0m\n\u001b[0;32m      4\u001b[0m \u001b[0mplt\u001b[0m\u001b[1;33m.\u001b[0m\u001b[0mplot\u001b[0m\u001b[1;33m(\u001b[0m\u001b[0mr\u001b[0m\u001b[1;33m[\u001b[0m\u001b[1;34m\"loss\"\u001b[0m\u001b[1;33m]\u001b[0m\u001b[1;33m,\u001b[0m \u001b[0mlabel\u001b[0m\u001b[1;33m=\u001b[0m\u001b[0mr\u001b[0m\u001b[1;33m[\u001b[0m\u001b[1;34m\"lable\"\u001b[0m\u001b[1;33m]\u001b[0m\u001b[1;33m)\u001b[0m\u001b[1;33m\u001b[0m\u001b[0m\n\u001b[0;32m      5\u001b[0m \u001b[0mr\u001b[0m \u001b[1;33m=\u001b[0m \u001b[0mrnn_loss\u001b[0m\u001b[1;33m[\u001b[0m\u001b[1;36m1\u001b[0m\u001b[1;33m]\u001b[0m\u001b[1;33m\u001b[0m\u001b[0m\n",
      "\u001b[1;31mNameError\u001b[0m: name 'rnn_loss' is not defined"
     ],
     "output_type": "error"
    }
   ],
   "source": [
    "for a in rnn_loss[2:]:\n",
    "    plt.plot(a[\"loss\"],label=a[\"lable\"])\n",
    "r = rnn_loss[0]\n",
    "plt.plot(r[\"loss\"], label=r[\"lable\"])\n",
    "r = rnn_loss[1]\n",
    "plt.plot(r[\"loss\"], label=r[\"lable\"])\n",
    "\n",
    "plt.legend(loc=1)\n",
    "plt.xlabel('Averaged Negative log likelihood on rnn (every 100 iterations)')\n",
    "plt.ylabel('L(X))')\n",
    "\n",
    "plt.show()"
   ]
  },
  {
   "cell_type": "markdown",
   "metadata": {},
   "source": [
    "## 4.2 Output predictions \n",
    "This section includes sampled sentences from AE + RNN and RNNLM models. The inverse transform sampling method is used to draw samples.\n",
    "Table below shows the output predictions of AE + RNN with sentences given to autoencoder "
   ]
  },
  {
   "cell_type": "markdown",
   "metadata": {},
   "source": [
    "|     Origin   |since 2006 , 75 iranians athletes have been to the united states in an exchange program , reuters reported . |\n",
    "| -------| -------------------------|\n",
    "| alpha = 0.1      | - - as were had had not <\\s> <\\s> <\\s> . . . . <\\s> . . <\\s> <\\s> . <s>|\n",
    "| alpha = 0.5      | - family - down down down down down reports down reports down down down reports come come come come down really |\n",
    "| alpha = 0.9      | example - state state state state state state come state state state state any any state state state state state </s> |\n"
   ]
  },
  {
   "cell_type": "markdown",
   "metadata": {},
   "source": [
    "|     Origin   |during medical school in my native oklahoma , i once saw a breast enhancement surgery performed under local anesthetic . |\n",
    "| -------| -------------------------|\n",
    "| alpha = 0.1      |and and and and ? ? ? and near ? near near near would near near near much would originally the |\n",
    "| alpha = 0.5      | president president president on on on made made made made made made made made made made made made made made chicago  |\n",
    "| alpha = 0.9      |  president president president and and president and and and and and president president and and president and and and and and |"
   ]
  },
  {
   "cell_type": "markdown",
   "metadata": {},
   "source": [
    "|     Origin   |as for protecting the marine environment , the law spells out both national and internationally agreed pollution control measures . |\n",
    "| -------| -------------------------|\n",
    "| alpha = 0.1      | at at <\\s> <\\s> <\\s> <\\s> <\\s> <\\s> <\\s> <\\s> <\\s> <\\s> <\\s> . . . . . . . in|\n",
    "| alpha = 0.5      | at at <\\s> <\\s> <\\s> <\\s> <\\s> <\\s> <\\s> <\\s> <\\s> <\\s> <\\s> <\\s> . . . . . . if  |\n",
    "| alpha = 0.9      |  at be be 10 10 10 10 10 10 10 10 two 10 10 10 . . . . . 10 |"
   ]
  },
  {
   "cell_type": "markdown",
   "metadata": {},
   "source": [
    "|     Origin   |and , with only one or two <unk> , it was time for handshakes all round at the tote .  |\n",
    "| -------| -------------------------|\n",
    "| alpha = 0.1      | take . . . . . of of of . of of of of of of of of of of of|\n",
    "| alpha = 0.5      | of ' . . . . . . . . . . . . . . . . . . .  |\n",
    "| alpha = 0.9      | of of of she of she of she of she she she . . . . . however she she given |"
   ]
  },
  {
   "cell_type": "markdown",
   "metadata": {},
   "source": [
    "The table below shows sampled sentences from RNNLM"
   ]
  },
  {
   "cell_type": "markdown",
   "metadata": {},
   "source": [
    "|       Samples from RNNLM  |\n",
    " |-------------------------|\n",
    "|lockerbie <s> <s> <s> was <\\s> <\\s> <\\s> <\\s> <\\s> <\\s> <\\s> <\\s> <\\s> <\\s> <\\s> <\\s> <\\s> <\\s> <\\s> <\\s>|\n",
    "|argentina for <\\s> <\\s> <\\s> <\\s> <\\s> <\\s> <\\s> <\\s> <\\s> <\\s> <\\s> <\\s> <\\s> <\\s> <\\s> <\\s> <\\s> . <s> |\n",
    "|diluting assurance <\\s> <\\s> <\\s> <\\s> . . . . . . . . . . . . . . in|\n",
    "|<s> <s> <s> was <\\s> <\\s> <\\s> <\\s> <\\s> <\\s> <\\s> <\\s> <\\s> <\\s> <\\s> <\\s> <\\s> <\\s> <\\s> <\\s> <\\s>|\n",
    "|locked <\\s> <\\s> <\\s> <\\s> <\\s> . . . . . <\\s> . . <\\s> <\\s> . <\\s> <\\s> . <s> |\n",
    "|provisionally expedition for <\\s> <\\s> <\\s> <\\s> <\\s> <\\s> <\\s> <\\s> . . . . . . . . . <s>|\n",
    "|blockbuster obstacle <\\s> <\\s> <\\s> , <\\s> <\\s> <\\s> <\\s> <\\s> <\\s> <\\s> <\\s> <\\s> <\\s> <\\s> <\\s> <\\s> and <s>|\n",
    "|scrawled lagos , <\\s> <\\s> <\\s> <\\s> <\\s> <\\s> <\\s> <\\s> <\\s> <\\s> <\\s> <\\s> <\\s> <\\s> <\\s> <\\s> and <s>|\n",
    "|inducements arriving of <\\s> <\\s> <\\s> <\\s> <\\s> <\\s> <\\s> <\\s> of <\\s> <\\s> <\\s> of <\\s> <\\s> <\\s> of <s>|\n",
    "\n",
    "\n"
   ]
  },
  {
   "cell_type": "markdown",
   "metadata": {},
   "source": [
    "# 5. Next steps"
   ]
  },
  {
   "cell_type": "markdown",
   "metadata": {},
   "source": [
    "To be discussed "
   ]
  }
 ],
 "metadata": {
  "anaconda-cloud": {},
  "kernelspec": {
   "display_name": "Python [conda root]",
   "language": "python",
   "name": "conda-root-py"
  },
  "language_info": {
   "codemirror_mode": {
    "name": "ipython",
    "version": 3.0
   },
   "file_extension": ".py",
   "mimetype": "text/x-python",
   "name": "python",
   "nbconvert_exporter": "python",
   "pygments_lexer": "ipython3",
   "version": "3.5.2"
  }
 },
 "nbformat": 4,
 "nbformat_minor": 0
}